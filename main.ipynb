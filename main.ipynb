{
 "cells": [
  {
   "cell_type": "code",
   "execution_count": 19,
   "source": [
    "import requests\r\n",
    "import os\r\n",
    "\r\n",
    "class YaUploader:\r\n",
    "    def __init__(self, file_path: str):\r\n",
    "        self.file_path = file_path\r\n",
    "\r\n",
    "    def upload(self):\r\n",
    "        \"\"\"Метод загруджает файлы по списку file_list на яндекс диск\"\"\"\r\n",
    "        \r\n",
    "        headers = {\r\n",
    "            \"Authorization\": \"\"\r\n",
    "        }\r\n",
    "        file_name = os.path.basename(self.file_path)\r\n",
    "\r\n",
    "        response_get = requests.get(\"https://cloud-api.yandex.net/v1/disk/resources/upload\",headers=headers, params={\"path\": file_name, \"overwrite\": \"true\"})\r\n",
    "        href = response_get.json()['href']\r\n",
    "\r\n",
    "        with open(self.file_path, 'rb') as f:\r\n",
    "            response_put = requests.put(href)\r\n",
    "\r\n",
    "        return response_put.status_code\r\n",
    "\r\n",
    "\r\n",
    "if __name__ == '__main__':\r\n",
    "    uploader = YaUploader('c:\\my_folder\\file.txt')\r\n",
    "    result = uploader.upload() \r\n",
    "\r\n",
    "    if result == 201:\r\n",
    "        print(\"Все Супер! Файл был успешно загружен!\")"
   ],
   "outputs": [],
   "metadata": {}
  },
  {
   "cell_type": "code",
   "execution_count": 17,
   "source": [
    "import requests, os\r\n",
    "\r\n",
    "\r\n",
    "class YaUploader:\r\n",
    "    def __init__(self, token: str):\r\n",
    "        self.token = token\r\n",
    "\r\n",
    "    def upload(self, file_path: str):\r\n",
    "        \"\"\"Метод загружает файлы по списку file_list на яндекс диск\"\"\"\r\n",
    "        # Тут ваша логика\r\n",
    "        # Функция может ничего не возвращать\r\n",
    "\r\n",
    "\r\n",
    "if __name__ == '__main__':\r\n",
    "    # Получить путь к загружаемому файлу и токен от пользователя\r\n",
    "    path_to_file = ...\r\n",
    "    token = 'AQAAAAAKXC4TAADLW4SJJMLjPkXhv7Z6j0BjI6M'\r\n",
    "    uploader = YaUploader(token)\r\n",
    "    result = uploader.upload(path_to_file)\r\n",
    "\r\n",
    "\r\n"
   ],
   "outputs": [],
   "metadata": {}
  }
 ],
 "metadata": {
  "orig_nbformat": 4,
  "language_info": {
   "name": "python",
   "version": "3.9.7",
   "mimetype": "text/x-python",
   "codemirror_mode": {
    "name": "ipython",
    "version": 3
   },
   "pygments_lexer": "ipython3",
   "nbconvert_exporter": "python",
   "file_extension": ".py"
  },
  "kernelspec": {
   "name": "python3",
   "display_name": "Python 3.9.7 64-bit"
  },
  "interpreter": {
   "hash": "9b5f83b344a52054a3a9074b75af64560c9cc7d488f61dbda98e94748ab87727"
  }
 },
 "nbformat": 4,
 "nbformat_minor": 2
}