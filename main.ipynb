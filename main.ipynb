{
 "cells": [
  {
   "cell_type": "code",
   "execution_count": 11,
   "source": [
    "# задание 1\r\n",
    "\r\n",
    "import requests\r\n",
    "\r\n",
    "TOKEN = '2619421814940190'\r\n",
    "\r\n",
    "urls = [\r\n",
    "    f'https://www.superheroapi.com/api.php/{TOKEN}/search/Hulk',\r\n",
    "    f'https://www.superheroapi.com/api.php/{TOKEN}/search/Thanos',\r\n",
    "    f'https://www.superheroapi.com/api.php/{TOKEN}/search/Captain%America',\r\n",
    "    f'https://www.superheroapi.com/api.php/{TOKEN}/search/Nova'\r\n",
    "]  # список адресов\r\n",
    "\r\n",
    "\r\n",
    "def requests_get(url_all):\r\n",
    "    # принимает список адресов\r\n",
    "    r = (requests.get(url) for url in url_all)\r\n",
    "    return r\r\n",
    "\r\n",
    "\r\n",
    "def parser():\r\n",
    "    # функция парсинга интелекта\r\n",
    "    super_man = []\r\n",
    "    for item in requests_get(urls):\r\n",
    "        intelligence = item.json()\r\n",
    "        try:\r\n",
    "            for power_stats in intelligence['results']:\r\n",
    "                super_man.append({\r\n",
    "                    'name': power_stats['name'],\r\n",
    "                    'intelligence': power_stats['powerstats']['intelligence'],\r\n",
    "                })\r\n",
    "        except KeyError:\r\n",
    "            print(f\"Проверьте ссылки urls: {urls}\")\r\n",
    "\r\n",
    "    intelligence_super_hero = 0\r\n",
    "    name = ''\r\n",
    "    for intelligence_hero in super_man:\r\n",
    "        if intelligence_super_hero < int(intelligence_hero['intelligence']):\r\n",
    "            intelligence_super_hero = int(intelligence_hero['intelligence'])\r\n",
    "            name = intelligence_hero['name']\r\n",
    "\r\n",
    "    print(f\"Самый интелектуальный {name}, интелект: {intelligence_super_hero}\")\r\n",
    "\r\n",
    "\r\n",
    "parser()"
   ],
   "outputs": [
    {
     "output_type": "stream",
     "name": "stdout",
     "text": [
      "Самый интелектуальный Thanos, интелект: 100\n"
     ]
    }
   ],
   "metadata": {}
  },
  {
   "cell_type": "code",
   "execution_count": 6,
   "source": [
    "# import requests, os\r\n",
    "\r\n",
    "# class YaUploader:\r\n",
    "#     def __init__(self, token: str):\r\n",
    "#         self.token = token\r\n",
    "\r\n",
    "#     def upload(self, file_path: str):\r\n",
    "#         \"\"\"Метод загруджает файл file_path на яндекс диск\"\"\"\r\n",
    "\r\n",
    "#         file_path = os.path.normpath(file_path)\r\n",
    "#         HEADERS = {\"Authorization\" : f'OAuth {self.token}'}\r\n",
    "#         FILES = {\"file\" : open(file_path, 'rb')}\r\n",
    "\r\n",
    "#         response_url = requests.get(\r\n",
    "#         \"https://cloud-api.yandex.net/v1/disk/resources/upload\",\r\n",
    "#         params = {\"path\": file_path} ,\r\n",
    "#         headers = HEADERS)\r\n",
    "#         url = response_url.json().get('href')\r\n",
    "\r\n",
    "\r\n",
    "#         response_upload = requests.put(url, files = FILES, headers = {})\r\n",
    "#         return print(response_upload.status_code)\r\n",
    "\r\n",
    "\r\n",
    "# if __name__ == '__main__':\r\n",
    "#     uploader = YaUploader('XXX')\r\n",
    "#     result = uploader.upload(\"files-to-upload/test/art10.jpg\")"
   ],
   "outputs": [
    {
     "output_type": "error",
     "ename": "FileNotFoundError",
     "evalue": "[Errno 2] No such file or directory: 'files-to-upload\\\\test\\\\art10.jpg'",
     "traceback": [
      "\u001b[1;31m---------------------------------------------------------------------------\u001b[0m",
      "\u001b[1;31mFileNotFoundError\u001b[0m                         Traceback (most recent call last)",
      "\u001b[1;32m~\\AppData\\Local\\Temp/ipykernel_18752/3747183712.py\u001b[0m in \u001b[0;36m<module>\u001b[1;34m\u001b[0m\n\u001b[0;32m     25\u001b[0m \u001b[1;32mif\u001b[0m \u001b[0m__name__\u001b[0m \u001b[1;33m==\u001b[0m \u001b[1;34m'__main__'\u001b[0m\u001b[1;33m:\u001b[0m\u001b[1;33m\u001b[0m\u001b[1;33m\u001b[0m\u001b[0m\n\u001b[0;32m     26\u001b[0m     \u001b[0muploader\u001b[0m \u001b[1;33m=\u001b[0m \u001b[0mYaUploader\u001b[0m\u001b[1;33m(\u001b[0m\u001b[1;34m'XXX'\u001b[0m\u001b[1;33m)\u001b[0m\u001b[1;33m\u001b[0m\u001b[1;33m\u001b[0m\u001b[0m\n\u001b[1;32m---> 27\u001b[1;33m     \u001b[0mresult\u001b[0m \u001b[1;33m=\u001b[0m \u001b[0muploader\u001b[0m\u001b[1;33m.\u001b[0m\u001b[0mupload\u001b[0m\u001b[1;33m(\u001b[0m\u001b[1;34m\"files-to-upload/test/art10.jpg\"\u001b[0m\u001b[1;33m)\u001b[0m\u001b[1;33m\u001b[0m\u001b[1;33m\u001b[0m\u001b[0m\n\u001b[0m",
      "\u001b[1;32m~\\AppData\\Local\\Temp/ipykernel_18752/3747183712.py\u001b[0m in \u001b[0;36mupload\u001b[1;34m(self, file_path)\u001b[0m\n\u001b[0;32m     10\u001b[0m         \u001b[0mfile_path\u001b[0m \u001b[1;33m=\u001b[0m \u001b[0mos\u001b[0m\u001b[1;33m.\u001b[0m\u001b[0mpath\u001b[0m\u001b[1;33m.\u001b[0m\u001b[0mnormpath\u001b[0m\u001b[1;33m(\u001b[0m\u001b[0mfile_path\u001b[0m\u001b[1;33m)\u001b[0m\u001b[1;33m\u001b[0m\u001b[1;33m\u001b[0m\u001b[0m\n\u001b[0;32m     11\u001b[0m         \u001b[0mHEADERS\u001b[0m \u001b[1;33m=\u001b[0m \u001b[1;33m{\u001b[0m\u001b[1;34m\"Authorization\"\u001b[0m \u001b[1;33m:\u001b[0m \u001b[1;34mf'OAuth {self.token}'\u001b[0m\u001b[1;33m}\u001b[0m\u001b[1;33m\u001b[0m\u001b[1;33m\u001b[0m\u001b[0m\n\u001b[1;32m---> 12\u001b[1;33m         \u001b[0mFILES\u001b[0m \u001b[1;33m=\u001b[0m \u001b[1;33m{\u001b[0m\u001b[1;34m\"file\"\u001b[0m \u001b[1;33m:\u001b[0m \u001b[0mopen\u001b[0m\u001b[1;33m(\u001b[0m\u001b[0mfile_path\u001b[0m\u001b[1;33m,\u001b[0m \u001b[1;34m'rb'\u001b[0m\u001b[1;33m)\u001b[0m\u001b[1;33m}\u001b[0m\u001b[1;33m\u001b[0m\u001b[1;33m\u001b[0m\u001b[0m\n\u001b[0m\u001b[0;32m     13\u001b[0m \u001b[1;33m\u001b[0m\u001b[0m\n\u001b[0;32m     14\u001b[0m         response_url = requests.get(\n",
      "\u001b[1;31mFileNotFoundError\u001b[0m: [Errno 2] No such file or directory: 'files-to-upload\\\\test\\\\art10.jpg'"
     ]
    }
   ],
   "metadata": {}
  }
 ],
 "metadata": {
  "orig_nbformat": 4,
  "language_info": {
   "name": "python",
   "version": "3.9.7",
   "mimetype": "text/x-python",
   "codemirror_mode": {
    "name": "ipython",
    "version": 3
   },
   "pygments_lexer": "ipython3",
   "nbconvert_exporter": "python",
   "file_extension": ".py"
  },
  "kernelspec": {
   "name": "python3",
   "display_name": "Python 3.9.7 64-bit"
  },
  "interpreter": {
   "hash": "9b5f83b344a52054a3a9074b75af64560c9cc7d488f61dbda98e94748ab87727"
  }
 },
 "nbformat": 4,
 "nbformat_minor": 2
}