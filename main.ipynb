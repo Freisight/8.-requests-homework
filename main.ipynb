{
 "cells": [
  {
   "cell_type": "code",
   "execution_count": 1,
   "source": [
    "import requests, os\r\n",
    "\r\n",
    "class YaUploader:\r\n",
    "    def __init__(self, token: str):\r\n",
    "        self.token = token\r\n",
    "\r\n",
    "    def upload(self, file_path: str):\r\n",
    "        \"\"\"Метод загруджает файл file_path на яндекс диск\"\"\"\r\n",
    "\r\n",
    "        file_path = os.path.normpath(file_path)\r\n",
    "        HEADERS = {\"Authorization\" : f'OAuth {self.token}'}\r\n",
    "        FILES = {\"file\" : open(file_path, 'rb')}\r\n",
    "\r\n",
    "        response_url = requests.get(\r\n",
    "        \"https://cloud-api.yandex.net/v1/disk/resources/upload\",\r\n",
    "        params = {\"path\": file_path} ,\r\n",
    "        headers = HEADERS)\r\n",
    "        url = response_url.json().get('href')\r\n",
    "\r\n",
    "\r\n",
    "        response_upload = requests.put(url, files = FILES, headers = {})\r\n",
    "        return print(response_upload.status_code)\r\n",
    "\r\n",
    "\r\n",
    "if __name__ == '__main__':\r\n",
    "    uploader = YaUploader('XXX')\r\n",
    "    result = uploader.upload(\"files-to-upload/test/art10.jpg\")"
   ],
   "outputs": [],
   "metadata": {}
  },
  {
   "cell_type": "code",
   "execution_count": null,
   "source": [
    "import requests, os"
   ],
   "outputs": [],
   "metadata": {}
  }
 ],
 "metadata": {
  "orig_nbformat": 4,
  "language_info": {
   "name": "python",
   "version": "3.9.7",
   "mimetype": "text/x-python",
   "codemirror_mode": {
    "name": "ipython",
    "version": 3
   },
   "pygments_lexer": "ipython3",
   "nbconvert_exporter": "python",
   "file_extension": ".py"
  },
  "kernelspec": {
   "name": "python3",
   "display_name": "Python 3.9.7 64-bit"
  },
  "interpreter": {
   "hash": "133ec6f42bf452a88d9b72b88385391844c441d2b492570d51110c887fbe3ef6"
  }
 },
 "nbformat": 4,
 "nbformat_minor": 2
}